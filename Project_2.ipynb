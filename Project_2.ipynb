{
 "cells": [
  {
   "cell_type": "code",
   "execution_count": 5,
   "id": "c454761a",
   "metadata": {},
   "outputs": [],
   "source": [
    "#import necessary libraries\n",
    "import numpy as np\n",
    "import pandas as pd\n",
    "from scipy.io import loadmat\n",
    "import requests\n",
    "\n",
    "import seaborn as sns\n",
    "import matplotlib.pyplot as plt\n",
    "import matplotlib.ticker as mtick\n",
    "\n",
    "from sklearn.feature_extraction.text import CountVectorizer\n",
    "from sklearn.decomposition import PCA\n",
    "\n",
    "# Plotting style\n",
    "sns.set_style('darkgrid')\n",
    "sns.set_theme(font_scale=1.)"
   ]
  },
  {
   "cell_type": "code",
   "execution_count": 6,
   "id": "156cd2bd",
   "metadata": {},
   "outputs": [
    {
     "name": "stdout",
     "output_type": "stream",
     "text": [
      "   id      age   gender  education  country  ethnicity   nscore   escore  \\\n",
      "0   1  0.49788  0.48246   -0.05921  0.96082    0.12600  0.31287 -0.57545   \n",
      "1   2 -0.07854 -0.48246    1.98437  0.96082   -0.31685 -0.67825  1.93886   \n",
      "2   3  0.49788 -0.48246   -0.05921  0.96082   -0.31685 -0.46725  0.80523   \n",
      "3   4 -0.95197  0.48246    1.16365  0.96082   -0.31685 -0.14882 -0.80615   \n",
      "4   5  0.49788  0.48246    1.98437  0.96082   -0.31685  0.73545 -1.63340   \n",
      "\n",
      "    oscore   ascore  ...  ecstasy  heroin  ketamine legalh  lsd meth  \\\n",
      "0 -0.58331 -0.91699  ...      CL0     CL0       CL0    CL0  CL0  CL0   \n",
      "1  1.43533  0.76096  ...      CL4     CL0       CL2    CL0  CL2  CL3   \n",
      "2 -0.84732 -1.62090  ...      CL0     CL0       CL0    CL0  CL0  CL0   \n",
      "3 -0.01928  0.59042  ...      CL0     CL0       CL2    CL0  CL0  CL0   \n",
      "4 -0.45174 -0.30172  ...      CL1     CL0       CL0    CL1  CL0  CL0   \n",
      "\n",
      "  mushrooms nicotine semer  vsa  \n",
      "0       CL0      CL2   CL0  CL0  \n",
      "1       CL0      CL4   CL0  CL0  \n",
      "2       CL1      CL0   CL0  CL0  \n",
      "3       CL0      CL2   CL0  CL0  \n",
      "4       CL2      CL2   CL0  CL0  \n",
      "\n",
      "[5 rows x 32 columns]\n",
      "Shape: (1885, 32)\n",
      "Detected targets: ['alcohol', 'amphet', 'amyl', 'benzos', 'caff', 'cannabis', 'choc', 'coke', 'crack', 'ecstasy', 'heroin', 'ketamine', 'legalh', 'lsd', 'meth', 'mushrooms', 'nicotine', 'semer', 'vsa']\n"
     ]
    }
   ],
   "source": [
    "#retrieve data from web source and inspect\n",
    "url = 'https://archive.ics.uci.edu/ml/machine-learning-databases/00373/drug_consumption.data'\n",
    "attr_url = 'D:/DTU/ML/Attribute_descriptions.txt'\n",
    "\n",
    "# Read attribute names\n",
    "attribute_names = pd.read_csv(attr_url, sep='\\t', header=None, usecols=[0])[0].tolist()\n",
    "\n",
    "# Load dataset using attribute names\n",
    "df = pd.read_csv(url, header=None, names=attribute_names)\n",
    "\n",
    "# Parse attribute descriptions → roles (Feature/Target/ID)\n",
    "feature_names, drug_targets = [], []\n",
    "with open(attr_url, 'r') as fh:\n",
    "    for line in fh:\n",
    "        parts = line.strip().split()\n",
    "        if not parts:\n",
    "            continue\n",
    "        name = parts[0]\n",
    "        role = (parts[1].lower() if len(parts) > 1 else '')\n",
    "        if role.startswith('feature'):\n",
    "            feature_names.append(name)\n",
    "        elif role.startswith('target'):\n",
    "            drug_targets.append(name)\n",
    "\n",
    "print(df.head())\n",
    "print('Shape:', df.shape)\n",
    "print('Detected targets:', drug_targets)\n",
    "\n"
   ]
  },
  {
   "cell_type": "code",
   "execution_count": 7,
   "id": "4f6d47c7",
   "metadata": {},
   "outputs": [
    {
     "name": "stdout",
     "output_type": "stream",
     "text": [
      "X columns: ['age', 'gender', 'education', 'country', 'ethnicity', 'nscore', 'escore', 'oscore', 'ascore', 'cscore', 'impuslive', 'ss']\n",
      "       age   gender  education  country  ethnicity   nscore   escore   oscore  \\\n",
      "0  0.49788  0.48246   -0.05921  0.96082    0.12600  0.31287 -0.57545 -0.58331   \n",
      "1 -0.07854 -0.48246    1.98437  0.96082   -0.31685 -0.67825  1.93886  1.43533   \n",
      "2  0.49788 -0.48246   -0.05921  0.96082   -0.31685 -0.46725  0.80523 -0.84732   \n",
      "3 -0.95197  0.48246    1.16365  0.96082   -0.31685 -0.14882 -0.80615 -0.01928   \n",
      "4  0.49788  0.48246    1.98437  0.96082   -0.31685  0.73545 -1.63340 -0.45174   \n",
      "\n",
      "    ascore   cscore  impuslive       ss  \n",
      "0 -0.91699 -0.00665   -0.21712 -1.18084  \n",
      "1  0.76096 -0.14277   -0.71126 -0.21575  \n",
      "2 -1.62090 -1.01450   -1.37983  0.40148  \n",
      "3  0.59042  0.58489   -1.37983 -1.18084  \n",
      "4 -0.30172  1.30612   -0.21712 -0.21575  \n",
      "y (binarized) columns: ['alcohol', 'amphet', 'amyl', 'benzos', 'caff', 'cannabis', 'choc', 'coke', 'crack', 'ecstasy', 'heroin', 'ketamine', 'legalh', 'lsd', 'meth', 'mushrooms', 'nicotine', 'semer', 'vsa']\n",
      "   alcohol  amphet  amyl  benzos  caff  cannabis  choc  coke  crack  ecstasy  \\\n",
      "0        1       0     0       0     1         0     1     0      0        0   \n",
      "1        1       0     0       0     1         1     1     1      0        1   \n",
      "2        1       0     0       0     1         1     1     0      0        0   \n",
      "3        1       0     0       1     1         0     1     0      0        0   \n",
      "4        1       0     0       0     1         1     1     0      0        0   \n",
      "\n",
      "   heroin  ketamine  legalh  lsd  meth  mushrooms  nicotine  semer  vsa  \n",
      "0       0         0       0    0     0          0         0      0    0  \n",
      "1       0         0       0    0     1          0         1      0    0  \n",
      "2       0         0       0    0     0          0         0      0    0  \n",
      "3       0         0       0    0     0          0         0      0    0  \n",
      "4       0         0       0    0     0          0         0      0    0  \n"
     ]
    },
    {
     "name": "stderr",
     "output_type": "stream",
     "text": [
      "C:\\Users\\ASUS\\AppData\\Local\\Temp\\ipykernel_16804\\2274460692.py:6: FutureWarning: DataFrame.applymap has been deprecated. Use DataFrame.map instead.\n",
      "  y_binarized = y.applymap(lambda x: 0 if x in ['CL0', 'CL1', 'CL2'] else 1)\n"
     ]
    }
   ],
   "source": [
    "# Define X and y using parsed lists from the attribute file\n",
    "X = df[feature_names].copy()  # age, gender, education, country, ethnicity, big five, impulsive, ss\n",
    "y = df[drug_targets].copy()   # all targets/drugs\n",
    "\n",
    "# Binarize y: CL0–CL2 => 0 (non-user), CL3–CL6 => 1 (user)\n",
    "y_binarized = y.applymap(lambda x: 0 if x in ['CL0', 'CL1', 'CL2'] else 1)\n",
    "\n",
    "print('X columns:', list(X.columns))\n",
    "print(X.head())\n",
    "print('y (binarized) columns:', list(y_binarized.columns))\n",
    "print(y_binarized.head())"
   ]
  },
  {
   "cell_type": "code",
   "execution_count": 8,
   "id": "12b593b4",
   "metadata": {},
   "outputs": [
    {
     "name": "stdout",
     "output_type": "stream",
     "text": [
      "   age_18-24  age_25-34  age_35-44  age_45-54  age_55-64  age_65+\n",
      "0      False      False       True      False      False    False\n",
      "1      False       True      False      False      False    False\n",
      "2      False      False       True      False      False    False\n",
      "3       True      False      False      False      False    False\n",
      "4      False      False       True      False      False    False\n"
     ]
    }
   ],
   "source": [
    "#making stupid numbers into one hot encoding\n",
    "# Mapping dictionaries\n",
    "age_map = {\n",
    "    -0.95197: \"18-24\",\n",
    "    -0.07854: \"25-34\",\n",
    "     0.49788: \"35-44\",\n",
    "     1.09449: \"45-54\",\n",
    "     1.82213: \"55-64\",\n",
    "     2.59171: \"65+\"\n",
    "}\n",
    "\n",
    "gender_map = {\n",
    "     0.48246: \"Female\",\n",
    "    -0.48246: \"Male\"\n",
    "}\n",
    "\n",
    "education_map = {\n",
    "    -2.43591: \"Left<16\",\n",
    "    -1.73790: \"Left16\",\n",
    "    -1.43719: \"Left17\",\n",
    "    -1.22751: \"Left18\",\n",
    "    -0.61113: \"SomeCollege\",\n",
    "    -0.05921: \"ProfCert\",\n",
    "     0.45468: \"UniDegree\",\n",
    "     1.16365: \"Masters\",\n",
    "     1.98437: \"Doctorate\"\n",
    "}\n",
    "\n",
    "country_map = {\n",
    "    -0.09765: \"Australia\",\n",
    "     0.24923: \"Canada\",\n",
    "    -0.46841: \"NewZealand\",\n",
    "    -0.28519: \"Other\",\n",
    "     0.21128: \"Ireland\",\n",
    "     0.96082: \"UK\",\n",
    "    -0.57009: \"USA\"\n",
    "}\n",
    "\n",
    "ethnicity_map = {\n",
    "    -0.50212: \"Asian\",\n",
    "    -1.10702: \"Black\",\n",
    "     1.90725: \"MixedBlackAsian\",\n",
    "     0.12600: \"MixedWhiteAsian\",\n",
    "    -0.22166: \"MixedWhiteBlack\",\n",
    "     0.11440: \"Other\",\n",
    "    -0.31685: \"White\"\n",
    "}\n",
    "\n",
    "# Map codes → labels\n",
    "X[\"age\"] = X[\"age\"].map(age_map)\n",
    "X[\"gender\"] = X[\"gender\"].map(gender_map)\n",
    "X[\"education\"] = X[\"education\"].map(education_map)\n",
    "X[\"country\"] = X[\"country\"].map(country_map)\n",
    "X[\"ethnicity\"] = X[\"ethnicity\"].map(ethnicity_map)\n",
    "\n",
    "# One-hot encode → now column names use meanings\n",
    "X_encoded = pd.get_dummies(X, columns=[\"age\", \"gender\", \"education\", \"country\", \"ethnicity\"])\n",
    "\n",
    "print(X_encoded.filter(like=\"age\").head())  # example: see only age columns\n"
   ]
  },
  {
   "cell_type": "code",
   "execution_count": 9,
   "id": "6a459363",
   "metadata": {},
   "outputs": [],
   "source": [
    "# Part 1.a: linear regression\n",
    "\n",
    "traits = X[['nscore', 'escore', 'oscore', 'ascore', 'cscore', 'impuslive', 'ss']]\n",
    "#traits.head()\n",
    "#traits.std()\n",
    "#traits.mean()\n",
    "\n"
   ]
  },
  {
   "cell_type": "code",
   "execution_count": 10,
   "id": "eed6ae50",
   "metadata": {},
   "outputs": [
    {
     "data": {
      "image/png": "[encoded data removed]",
      "text/plain": [
       "<Figure size 700x500 with 1 Axes>"
      ]
     },
     "metadata": {},
     "output_type": "display_data"
    },
    {
     "name": "stdout",
     "output_type": "stream",
     "text": [
      "Optimal λ: 18.7382\n",
      "Minimum CV MSE: 0.6881\n"
     ]
    }
   ],
   "source": [
    "from sklearn.linear_model import Ridge\n",
    "from sklearn.model_selection import KFold, cross_val_score\n",
    "\n",
    "# Define predictors and target\n",
    "X = traits[['nscore', 'escore', 'oscore', 'ascore', 'cscore']]  \n",
    "y = traits['impuslive']  \n",
    "# 10-fold cross-validation\n",
    "seed = 42\n",
    "CV_kfold = KFold(n_splits=10, shuffle=True, random_state=seed)\n",
    "\n",
    "# Range of λ (regularization strength)\n",
    "lambdas = np.logspace(-1.1, 1.8, 100)  # 1e-4 to 1e4\n",
    "\n",
    "# Compute cross-validated MSE for each λ\n",
    "mse_scores = []\n",
    "for l in lambdas:\n",
    "    ridge = Ridge(alpha=l)\n",
    "    scores = cross_val_score(ridge, X, y, cv=CV_kfold, scoring='neg_mean_squared_error')\n",
    "    mse_scores.append(-scores.mean())\n",
    "\n",
    "# Plot generalization error vs λ\n",
    "plt.figure(figsize=(7,5))\n",
    "plt.semilogx(lambdas, mse_scores, marker='o')\n",
    "plt.xlabel('λ (regularization strength)')\n",
    "plt.ylabel('Cross-validated MSE')\n",
    "plt.title('Generalization error vs λ (Ridge Regression)')\n",
    "plt.grid(True)\n",
    "plt.show()\n",
    "\n",
    "# Find λ with lowest error\n",
    "best_lambda = lambdas[np.argmin(mse_scores)]\n",
    "print(f\"Optimal λ: {best_lambda:.4f}\")\n",
    "print(f\"Minimum CV MSE: {min(mse_scores):.4f}\")"
   ]
  },
  {
   "cell_type": "code",
   "execution_count": 11,
   "id": "9e314c0d",
   "metadata": {},
   "outputs": [
    {
     "name": "stdout",
     "output_type": "stream",
     "text": [
      "Intercept: 0.007200195030737081\n",
      "Coefficients: [ 0.10949529  0.22125857  0.19822987 -0.16477501 -0.2910262 ]\n",
      "       Trait  Coefficient\n",
      "0     nscore     0.109495\n",
      "1     escore     0.221259\n",
      "2     oscore     0.198230\n",
      "3     ascore    -0.164775\n",
      "4     cscore    -0.291026\n",
      "5  Intercept     0.007200\n"
     ]
    }
   ],
   "source": [
    "# optimal lambda is 18.7382 (based on 100 lambdas generated last code section)\n",
    "optimal_lambda = 18.7382\n",
    "\n",
    "ridge_model = Ridge(alpha=optimal_lambda).fit(X, y)\n",
    "\n",
    "print(\"Intercept:\", ridge_model.intercept_)\n",
    "print(\"Coefficients:\", ridge_model.coef_)\n",
    "\n",
    "# Get coefficients and trait names\n",
    "coef_table = pd.DataFrame({\n",
    "    'Trait': X.columns,\n",
    "    'Coefficient': ridge_model.coef_\n",
    "})\n",
    "\n",
    "# Add intercept as a separate row (optional)\n",
    "coef_table.loc[len(coef_table)] = ['Intercept', ridge_model.intercept_]\n",
    "\n",
    "# Display neatly\n",
    "print(coef_table)"
   ]
  }
 ],
 "metadata": {
  "kernelspec": {
   "display_name": "dtu02452",
   "language": "python",
   "name": "python3"
  },
  "language_info": {
   "codemirror_mode": {
    "name": "ipython",
    "version": 3
   },
   "file_extension": ".py",
   "mimetype": "text/x-python",
   "name": "python",
   "nbconvert_exporter": "python",
   "pygments_lexer": "ipython3",
   "version": "3.11.13"
  }
 },
 "nbformat": 4,
 "nbformat_minor": 5
}
